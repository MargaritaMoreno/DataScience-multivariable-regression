{
  "cells": [
    {
      "attachments": {},
      "cell_type": "markdown",
      "metadata": {
        "id": "BHg0HZz-intQ"
      },
      "source": [
        "# Introduction"
      ]
    },
    {
      "attachments": {},
      "cell_type": "markdown",
      "metadata": {
        "id": "V2RQkgAbiqJv"
      },
      "source": [
        "The National Longitudinal Survey of Youth 1997-2011 dataset is one of the most important databases available to social scientists working with US data. \n",
        "\n",
        "It allows scientists to look at the determinants of earnings as well as educational attainment and has incredible relevance for government policy. It can also shed light on politically sensitive issues like how different educational attainment and salaries are for people of different ethnicity, sex, and other factors. When we have a better understanding how these variables affect education and earnings we can also formulate more suitable government policies. \n",
        "\n",
        "<center><img src=https://i.imgur.com/cxBpQ3I.png height=400></center>\n"
      ]
    },
    {
      "attachments": {},
      "cell_type": "markdown",
      "metadata": {
        "id": "YjCPWWUSirY_"
      },
      "source": [
        "### Upgrade Plotly"
      ]
    },
    {
      "cell_type": "code",
      "execution_count": null,
      "metadata": {
        "id": "v74l3QCGirIX"
      },
      "outputs": [],
      "source": [
        "%pip install --upgrade plotly"
      ]
    },
    {
      "attachments": {},
      "cell_type": "markdown",
      "metadata": {
        "id": "br_QkHBMjC1Q"
      },
      "source": [
        "###  Import Statements\n"
      ]
    },
    {
      "cell_type": "code",
      "execution_count": 1,
      "metadata": {
        "id": "gSKZx-kwie_u"
      },
      "outputs": [],
      "source": [
        "import pandas as pd\n",
        "import numpy as np\n",
        "\n",
        "import seaborn as sns\n",
        "import plotly.express as px\n",
        "import matplotlib.pyplot as plt\n",
        "\n",
        "from sklearn.linear_model import LinearRegression\n",
        "from sklearn.model_selection import train_test_split"
      ]
    },
    {
      "attachments": {},
      "cell_type": "markdown",
      "metadata": {
        "id": "9pgsrth_izCn"
      },
      "source": [
        "## Notebook Presentation"
      ]
    },
    {
      "cell_type": "code",
      "execution_count": 2,
      "metadata": {
        "id": "Cgwu-WbBizqY"
      },
      "outputs": [],
      "source": [
        "pd.options.display.float_format = '{:,.2f}'.format"
      ]
    },
    {
      "attachments": {},
      "cell_type": "markdown",
      "metadata": {
        "id": "E5bhysOOjLRr"
      },
      "source": [
        "# Load the Data\n",
        "\n"
      ]
    },
    {
      "cell_type": "code",
      "execution_count": 3,
      "metadata": {
        "id": "6VngeTQwjM-X"
      },
      "outputs": [],
      "source": [
        "df_data = pd.read_csv('NLSY97_subset.csv')"
      ]
    },
    {
      "attachments": {},
      "cell_type": "markdown",
      "metadata": {
        "id": "_ZjIBJ5jjrj0"
      },
      "source": [
        "### Understand the Dataset\n",
        "\n",
        "Have a look at the file entitled `NLSY97_Variable_Names_and_Descriptions.csv`. \n",
        "\n",
        "---------------------------\n",
        "\n",
        "    :Key Variables:  \n",
        "      1. S           Years of schooling (highest grade completed as of 2011)\n",
        "      2. EXP         Total out-of-school work experience (years) as of the 2011 interview.\n",
        "      3. EARNINGS    Current hourly earnings in $ reported at the 2011 interview"
      ]
    },
    {
      "attachments": {},
      "cell_type": "markdown",
      "metadata": {
        "id": "8MkSxkjVnIfW"
      },
      "source": [
        "# Preliminary Data Exploration 🔎\n",
        "\n",
        "**Challenge**\n",
        "\n",
        "* What is the shape of `df_data`? \n",
        "* How many rows and columns does it have?\n",
        "* What are the column names?\n",
        "* Are there any NaN values or duplicates?"
      ]
    },
    {
      "cell_type": "code",
      "execution_count": 5,
      "metadata": {
        "id": "V_cQguBbjwZv"
      },
      "outputs": [
        {
          "data": {
            "text/plain": [
              "(2000, 96)"
            ]
          },
          "execution_count": 5,
          "metadata": {},
          "output_type": "execute_result"
        }
      ],
      "source": [
        "df_data.shape"
      ]
    },
    {
      "cell_type": "code",
      "execution_count": 6,
      "metadata": {},
      "outputs": [
        {
          "data": {
            "text/html": [
              "<div>\n",
              "<style scoped>\n",
              "    .dataframe tbody tr th:only-of-type {\n",
              "        vertical-align: middle;\n",
              "    }\n",
              "\n",
              "    .dataframe tbody tr th {\n",
              "        vertical-align: top;\n",
              "    }\n",
              "\n",
              "    .dataframe thead th {\n",
              "        text-align: right;\n",
              "    }\n",
              "</style>\n",
              "<table border=\"1\" class=\"dataframe\">\n",
              "  <thead>\n",
              "    <tr style=\"text-align: right;\">\n",
              "      <th></th>\n",
              "      <th>ID</th>\n",
              "      <th>EARNINGS</th>\n",
              "      <th>S</th>\n",
              "      <th>EXP</th>\n",
              "      <th>FEMALE</th>\n",
              "      <th>MALE</th>\n",
              "      <th>BYEAR</th>\n",
              "      <th>AGE</th>\n",
              "      <th>AGEMBTH</th>\n",
              "      <th>HHINC97</th>\n",
              "      <th>...</th>\n",
              "      <th>URBAN</th>\n",
              "      <th>REGNE</th>\n",
              "      <th>REGNC</th>\n",
              "      <th>REGW</th>\n",
              "      <th>REGS</th>\n",
              "      <th>MSA11NO</th>\n",
              "      <th>MSA11NCC</th>\n",
              "      <th>MSA11CC</th>\n",
              "      <th>MSA11NK</th>\n",
              "      <th>MSA11NIC</th>\n",
              "    </tr>\n",
              "  </thead>\n",
              "  <tbody>\n",
              "    <tr>\n",
              "      <th>0</th>\n",
              "      <td>4275</td>\n",
              "      <td>18.50</td>\n",
              "      <td>12</td>\n",
              "      <td>9.71</td>\n",
              "      <td>0</td>\n",
              "      <td>1</td>\n",
              "      <td>1984</td>\n",
              "      <td>27</td>\n",
              "      <td>24.00</td>\n",
              "      <td>64,000.00</td>\n",
              "      <td>...</td>\n",
              "      <td>1</td>\n",
              "      <td>0</td>\n",
              "      <td>0</td>\n",
              "      <td>1</td>\n",
              "      <td>0</td>\n",
              "      <td>0</td>\n",
              "      <td>0</td>\n",
              "      <td>1</td>\n",
              "      <td>0</td>\n",
              "      <td>0</td>\n",
              "    </tr>\n",
              "    <tr>\n",
              "      <th>1</th>\n",
              "      <td>4328</td>\n",
              "      <td>19.23</td>\n",
              "      <td>17</td>\n",
              "      <td>5.71</td>\n",
              "      <td>0</td>\n",
              "      <td>1</td>\n",
              "      <td>1982</td>\n",
              "      <td>29</td>\n",
              "      <td>32.00</td>\n",
              "      <td>6,000.00</td>\n",
              "      <td>...</td>\n",
              "      <td>2</td>\n",
              "      <td>0</td>\n",
              "      <td>0</td>\n",
              "      <td>1</td>\n",
              "      <td>0</td>\n",
              "      <td>0</td>\n",
              "      <td>1</td>\n",
              "      <td>0</td>\n",
              "      <td>0</td>\n",
              "      <td>0</td>\n",
              "    </tr>\n",
              "    <tr>\n",
              "      <th>2</th>\n",
              "      <td>8763</td>\n",
              "      <td>39.05</td>\n",
              "      <td>14</td>\n",
              "      <td>9.94</td>\n",
              "      <td>0</td>\n",
              "      <td>1</td>\n",
              "      <td>1981</td>\n",
              "      <td>30</td>\n",
              "      <td>23.00</td>\n",
              "      <td>88,252.00</td>\n",
              "      <td>...</td>\n",
              "      <td>1</td>\n",
              "      <td>0</td>\n",
              "      <td>0</td>\n",
              "      <td>0</td>\n",
              "      <td>1</td>\n",
              "      <td>0</td>\n",
              "      <td>0</td>\n",
              "      <td>1</td>\n",
              "      <td>0</td>\n",
              "      <td>0</td>\n",
              "    </tr>\n",
              "    <tr>\n",
              "      <th>3</th>\n",
              "      <td>8879</td>\n",
              "      <td>16.80</td>\n",
              "      <td>18</td>\n",
              "      <td>1.54</td>\n",
              "      <td>0</td>\n",
              "      <td>1</td>\n",
              "      <td>1983</td>\n",
              "      <td>28</td>\n",
              "      <td>30.00</td>\n",
              "      <td>NaN</td>\n",
              "      <td>...</td>\n",
              "      <td>1</td>\n",
              "      <td>0</td>\n",
              "      <td>1</td>\n",
              "      <td>0</td>\n",
              "      <td>0</td>\n",
              "      <td>0</td>\n",
              "      <td>1</td>\n",
              "      <td>0</td>\n",
              "      <td>0</td>\n",
              "      <td>0</td>\n",
              "    </tr>\n",
              "    <tr>\n",
              "      <th>4</th>\n",
              "      <td>1994</td>\n",
              "      <td>36.06</td>\n",
              "      <td>15</td>\n",
              "      <td>2.94</td>\n",
              "      <td>0</td>\n",
              "      <td>1</td>\n",
              "      <td>1984</td>\n",
              "      <td>27</td>\n",
              "      <td>23.00</td>\n",
              "      <td>44,188.00</td>\n",
              "      <td>...</td>\n",
              "      <td>1</td>\n",
              "      <td>0</td>\n",
              "      <td>0</td>\n",
              "      <td>0</td>\n",
              "      <td>1</td>\n",
              "      <td>0</td>\n",
              "      <td>0</td>\n",
              "      <td>1</td>\n",
              "      <td>0</td>\n",
              "      <td>0</td>\n",
              "    </tr>\n",
              "  </tbody>\n",
              "</table>\n",
              "<p>5 rows × 96 columns</p>\n",
              "</div>"
            ],
            "text/plain": [
              "     ID  EARNINGS   S  EXP  FEMALE  MALE  BYEAR  AGE  AGEMBTH   HHINC97  ...  \\\n",
              "0  4275     18.50  12 9.71       0     1   1984   27    24.00 64,000.00  ...   \n",
              "1  4328     19.23  17 5.71       0     1   1982   29    32.00  6,000.00  ...   \n",
              "2  8763     39.05  14 9.94       0     1   1981   30    23.00 88,252.00  ...   \n",
              "3  8879     16.80  18 1.54       0     1   1983   28    30.00       NaN  ...   \n",
              "4  1994     36.06  15 2.94       0     1   1984   27    23.00 44,188.00  ...   \n",
              "\n",
              "   URBAN  REGNE  REGNC  REGW  REGS  MSA11NO  MSA11NCC  MSA11CC  MSA11NK  \\\n",
              "0      1      0      0     1     0        0         0        1        0   \n",
              "1      2      0      0     1     0        0         1        0        0   \n",
              "2      1      0      0     0     1        0         0        1        0   \n",
              "3      1      0      1     0     0        0         1        0        0   \n",
              "4      1      0      0     0     1        0         0        1        0   \n",
              "\n",
              "   MSA11NIC  \n",
              "0         0  \n",
              "1         0  \n",
              "2         0  \n",
              "3         0  \n",
              "4         0  \n",
              "\n",
              "[5 rows x 96 columns]"
            ]
          },
          "execution_count": 6,
          "metadata": {},
          "output_type": "execute_result"
        }
      ],
      "source": [
        "df_data.head()"
      ]
    },
    {
      "cell_type": "code",
      "execution_count": 7,
      "metadata": {},
      "outputs": [
        {
          "data": {
            "text/html": [
              "<div>\n",
              "<style scoped>\n",
              "    .dataframe tbody tr th:only-of-type {\n",
              "        vertical-align: middle;\n",
              "    }\n",
              "\n",
              "    .dataframe tbody tr th {\n",
              "        vertical-align: top;\n",
              "    }\n",
              "\n",
              "    .dataframe thead th {\n",
              "        text-align: right;\n",
              "    }\n",
              "</style>\n",
              "<table border=\"1\" class=\"dataframe\">\n",
              "  <thead>\n",
              "    <tr style=\"text-align: right;\">\n",
              "      <th></th>\n",
              "      <th>ID</th>\n",
              "      <th>EARNINGS</th>\n",
              "      <th>S</th>\n",
              "      <th>EXP</th>\n",
              "      <th>FEMALE</th>\n",
              "      <th>MALE</th>\n",
              "      <th>BYEAR</th>\n",
              "      <th>AGE</th>\n",
              "      <th>AGEMBTH</th>\n",
              "      <th>HHINC97</th>\n",
              "      <th>...</th>\n",
              "      <th>URBAN</th>\n",
              "      <th>REGNE</th>\n",
              "      <th>REGNC</th>\n",
              "      <th>REGW</th>\n",
              "      <th>REGS</th>\n",
              "      <th>MSA11NO</th>\n",
              "      <th>MSA11NCC</th>\n",
              "      <th>MSA11CC</th>\n",
              "      <th>MSA11NK</th>\n",
              "      <th>MSA11NIC</th>\n",
              "    </tr>\n",
              "  </thead>\n",
              "  <tbody>\n",
              "    <tr>\n",
              "      <th>1995</th>\n",
              "      <td>2456</td>\n",
              "      <td>14.00</td>\n",
              "      <td>8</td>\n",
              "      <td>7.87</td>\n",
              "      <td>1</td>\n",
              "      <td>0</td>\n",
              "      <td>1982</td>\n",
              "      <td>29</td>\n",
              "      <td>19.00</td>\n",
              "      <td>6,000.00</td>\n",
              "      <td>...</td>\n",
              "      <td>1</td>\n",
              "      <td>1</td>\n",
              "      <td>0</td>\n",
              "      <td>0</td>\n",
              "      <td>0</td>\n",
              "      <td>0</td>\n",
              "      <td>1</td>\n",
              "      <td>0</td>\n",
              "      <td>0</td>\n",
              "      <td>0</td>\n",
              "    </tr>\n",
              "    <tr>\n",
              "      <th>1996</th>\n",
              "      <td>1119</td>\n",
              "      <td>14.83</td>\n",
              "      <td>18</td>\n",
              "      <td>1.92</td>\n",
              "      <td>1</td>\n",
              "      <td>0</td>\n",
              "      <td>1983</td>\n",
              "      <td>28</td>\n",
              "      <td>28.00</td>\n",
              "      <td>50,000.00</td>\n",
              "      <td>...</td>\n",
              "      <td>1</td>\n",
              "      <td>1</td>\n",
              "      <td>0</td>\n",
              "      <td>0</td>\n",
              "      <td>0</td>\n",
              "      <td>0</td>\n",
              "      <td>1</td>\n",
              "      <td>0</td>\n",
              "      <td>0</td>\n",
              "      <td>0</td>\n",
              "    </tr>\n",
              "    <tr>\n",
              "      <th>1997</th>\n",
              "      <td>3561</td>\n",
              "      <td>35.88</td>\n",
              "      <td>18</td>\n",
              "      <td>2.67</td>\n",
              "      <td>1</td>\n",
              "      <td>0</td>\n",
              "      <td>1984</td>\n",
              "      <td>27</td>\n",
              "      <td>29.00</td>\n",
              "      <td>77,610.00</td>\n",
              "      <td>...</td>\n",
              "      <td>1</td>\n",
              "      <td>0</td>\n",
              "      <td>0</td>\n",
              "      <td>1</td>\n",
              "      <td>0</td>\n",
              "      <td>0</td>\n",
              "      <td>0</td>\n",
              "      <td>1</td>\n",
              "      <td>0</td>\n",
              "      <td>0</td>\n",
              "    </tr>\n",
              "    <tr>\n",
              "      <th>1998</th>\n",
              "      <td>5980</td>\n",
              "      <td>25.48</td>\n",
              "      <td>16</td>\n",
              "      <td>4.71</td>\n",
              "      <td>1</td>\n",
              "      <td>0</td>\n",
              "      <td>1982</td>\n",
              "      <td>29</td>\n",
              "      <td>23.00</td>\n",
              "      <td>69,300.00</td>\n",
              "      <td>...</td>\n",
              "      <td>0</td>\n",
              "      <td>0</td>\n",
              "      <td>0</td>\n",
              "      <td>1</td>\n",
              "      <td>0</td>\n",
              "      <td>0</td>\n",
              "      <td>1</td>\n",
              "      <td>0</td>\n",
              "      <td>0</td>\n",
              "      <td>0</td>\n",
              "    </tr>\n",
              "    <tr>\n",
              "      <th>1999</th>\n",
              "      <td>6221</td>\n",
              "      <td>13.33</td>\n",
              "      <td>14</td>\n",
              "      <td>6.48</td>\n",
              "      <td>1</td>\n",
              "      <td>0</td>\n",
              "      <td>1984</td>\n",
              "      <td>27</td>\n",
              "      <td>30.00</td>\n",
              "      <td>40,020.00</td>\n",
              "      <td>...</td>\n",
              "      <td>1</td>\n",
              "      <td>0</td>\n",
              "      <td>0</td>\n",
              "      <td>1</td>\n",
              "      <td>0</td>\n",
              "      <td>0</td>\n",
              "      <td>1</td>\n",
              "      <td>0</td>\n",
              "      <td>0</td>\n",
              "      <td>0</td>\n",
              "    </tr>\n",
              "  </tbody>\n",
              "</table>\n",
              "<p>5 rows × 96 columns</p>\n",
              "</div>"
            ],
            "text/plain": [
              "        ID  EARNINGS   S  EXP  FEMALE  MALE  BYEAR  AGE  AGEMBTH   HHINC97  \\\n",
              "1995  2456     14.00   8 7.87       1     0   1982   29    19.00  6,000.00   \n",
              "1996  1119     14.83  18 1.92       1     0   1983   28    28.00 50,000.00   \n",
              "1997  3561     35.88  18 2.67       1     0   1984   27    29.00 77,610.00   \n",
              "1998  5980     25.48  16 4.71       1     0   1982   29    23.00 69,300.00   \n",
              "1999  6221     13.33  14 6.48       1     0   1984   27    30.00 40,020.00   \n",
              "\n",
              "      ...  URBAN  REGNE  REGNC  REGW  REGS  MSA11NO  MSA11NCC  MSA11CC  \\\n",
              "1995  ...      1      1      0     0     0        0         1        0   \n",
              "1996  ...      1      1      0     0     0        0         1        0   \n",
              "1997  ...      1      0      0     1     0        0         0        1   \n",
              "1998  ...      0      0      0     1     0        0         1        0   \n",
              "1999  ...      1      0      0     1     0        0         1        0   \n",
              "\n",
              "      MSA11NK  MSA11NIC  \n",
              "1995        0         0  \n",
              "1996        0         0  \n",
              "1997        0         0  \n",
              "1998        0         0  \n",
              "1999        0         0  \n",
              "\n",
              "[5 rows x 96 columns]"
            ]
          },
          "execution_count": 7,
          "metadata": {},
          "output_type": "execute_result"
        }
      ],
      "source": [
        "df_data.tail()"
      ]
    },
    {
      "cell_type": "code",
      "execution_count": 8,
      "metadata": {},
      "outputs": [
        {
          "name": "stdout",
          "output_type": "stream",
          "text": [
            "<class 'pandas.core.frame.DataFrame'>\n",
            "RangeIndex: 2000 entries, 0 to 1999\n",
            "Data columns (total 96 columns):\n",
            " #   Column    Non-Null Count  Dtype  \n",
            "---  ------    --------------  -----  \n",
            " 0   ID        2000 non-null   int64  \n",
            " 1   EARNINGS  2000 non-null   float64\n",
            " 2   S         2000 non-null   int64  \n",
            " 3   EXP       2000 non-null   float64\n",
            " 4   FEMALE    2000 non-null   int64  \n",
            " 5   MALE      2000 non-null   int64  \n",
            " 6   BYEAR     2000 non-null   int64  \n",
            " 7   AGE       2000 non-null   int64  \n",
            " 8   AGEMBTH   1956 non-null   float64\n",
            " 9   HHINC97   1630 non-null   float64\n",
            " 10  POVRAT97  1627 non-null   float64\n",
            " 11  HHBMBF    2000 non-null   int64  \n",
            " 12  HHBMOF    2000 non-null   int64  \n",
            " 13  HHOMBF    2000 non-null   int64  \n",
            " 14  HHBMONLY  2000 non-null   int64  \n",
            " 15  HHBFONLY  2000 non-null   int64  \n",
            " 16  HHOTHER   2000 non-null   int64  \n",
            " 17  MSA97NO   2000 non-null   int64  \n",
            " 18  MSA97NCC  2000 non-null   int64  \n",
            " 19  MSA97CC   2000 non-null   int64  \n",
            " 20  MSA97NK   2000 non-null   int64  \n",
            " 21  ETHBLACK  2000 non-null   int64  \n",
            " 22  ETHHISP   2000 non-null   int64  \n",
            " 23  ETHWHITE  2000 non-null   int64  \n",
            " 24  EDUCPROF  2000 non-null   int64  \n",
            " 25  EDUCPHD   2000 non-null   int64  \n",
            " 26  EDUCMAST  2000 non-null   int64  \n",
            " 27  EDUCBA    2000 non-null   int64  \n",
            " 28  EDUCAA    2000 non-null   int64  \n",
            " 29  EDUCHSD   2000 non-null   int64  \n",
            " 30  EDUCGED   2000 non-null   int64  \n",
            " 31  EDUCDO    2000 non-null   int64  \n",
            " 32  PRMONM    1121 non-null   float64\n",
            " 33  PRMONF    927 non-null    float64\n",
            " 34  PRMSTYUN  1467 non-null   float64\n",
            " 35  PRMSTYPE  1467 non-null   float64\n",
            " 36  PRMSTYAN  1467 non-null   float64\n",
            " 37  PRMSTYAE  1467 non-null   float64\n",
            " 38  PRFSTYUN  1210 non-null   float64\n",
            " 39  PRFSTYPE  1210 non-null   float64\n",
            " 40  PRFSTYAN  1210 non-null   float64\n",
            " 41  PRFSTYAE  1210 non-null   float64\n",
            " 42  SINGLE    2000 non-null   int64  \n",
            " 43  MARRIED   2000 non-null   int64  \n",
            " 44  COHABIT   2000 non-null   int64  \n",
            " 45  OTHSING   2000 non-null   int64  \n",
            " 46  FAITHN    2000 non-null   int64  \n",
            " 47  FAITHP    2000 non-null   int64  \n",
            " 48  FAITHC    2000 non-null   int64  \n",
            " 49  FAITHJ    2000 non-null   int64  \n",
            " 50  FAITHO    2000 non-null   int64  \n",
            " 51  FAITHM    2000 non-null   int64  \n",
            " 52  ASVABAR   2000 non-null   float64\n",
            " 53  ASVABWK   2000 non-null   float64\n",
            " 54  ASVABPC   2000 non-null   float64\n",
            " 55  ASVABMK   2000 non-null   float64\n",
            " 56  ASVABNO   2000 non-null   float64\n",
            " 57  ASVABCS   2000 non-null   float64\n",
            " 58  ASVABC    2000 non-null   float64\n",
            " 59  ASVABC4   2000 non-null   float64\n",
            " 60  VERBAL    2000 non-null   float64\n",
            " 61  ASVABMV   2000 non-null   int64  \n",
            " 62  HEIGHT    2000 non-null   int64  \n",
            " 63  WEIGHT04  2000 non-null   int64  \n",
            " 64  WEIGHT11  2000 non-null   int64  \n",
            " 65  SF        2000 non-null   int64  \n",
            " 66  SM        2000 non-null   int64  \n",
            " 67  SFR       1601 non-null   float64\n",
            " 68  SMR       1918 non-null   float64\n",
            " 69  SIBLINGS  2000 non-null   int64  \n",
            " 70  REG97NE   2000 non-null   int64  \n",
            " 71  REG97NC   2000 non-null   int64  \n",
            " 72  REG97S    2000 non-null   int64  \n",
            " 73  REG97W    2000 non-null   int64  \n",
            " 74  RS97RURL  2000 non-null   int64  \n",
            " 75  RS97URBN  2000 non-null   int64  \n",
            " 76  RS97UNKN  2000 non-null   int64  \n",
            " 77  JOBS      1953 non-null   float64\n",
            " 78  HOURS     2000 non-null   int64  \n",
            " 79  TENURE    2000 non-null   float64\n",
            " 80  CATGOV    2000 non-null   int64  \n",
            " 81  CATPRI    2000 non-null   int64  \n",
            " 82  CATNPO    2000 non-null   int64  \n",
            " 83  CATMIS    2000 non-null   int64  \n",
            " 84  CATSE     2000 non-null   int64  \n",
            " 85  COLLBARG  2000 non-null   int64  \n",
            " 86  URBAN     2000 non-null   int64  \n",
            " 87  REGNE     2000 non-null   int64  \n",
            " 88  REGNC     2000 non-null   int64  \n",
            " 89  REGW      2000 non-null   int64  \n",
            " 90  REGS      2000 non-null   int64  \n",
            " 91  MSA11NO   2000 non-null   int64  \n",
            " 92  MSA11NCC  2000 non-null   int64  \n",
            " 93  MSA11CC   2000 non-null   int64  \n",
            " 94  MSA11NK   2000 non-null   int64  \n",
            " 95  MSA11NIC  2000 non-null   int64  \n",
            "dtypes: float64(28), int64(68)\n",
            "memory usage: 1.5 MB\n"
          ]
        }
      ],
      "source": [
        "df_data.info()"
      ]
    },
    {
      "cell_type": "code",
      "execution_count": 9,
      "metadata": {},
      "outputs": [
        {
          "data": {
            "text/html": [
              "<div>\n",
              "<style scoped>\n",
              "    .dataframe tbody tr th:only-of-type {\n",
              "        vertical-align: middle;\n",
              "    }\n",
              "\n",
              "    .dataframe tbody tr th {\n",
              "        vertical-align: top;\n",
              "    }\n",
              "\n",
              "    .dataframe thead th {\n",
              "        text-align: right;\n",
              "    }\n",
              "</style>\n",
              "<table border=\"1\" class=\"dataframe\">\n",
              "  <thead>\n",
              "    <tr style=\"text-align: right;\">\n",
              "      <th></th>\n",
              "      <th>ID</th>\n",
              "      <th>EARNINGS</th>\n",
              "      <th>S</th>\n",
              "      <th>EXP</th>\n",
              "      <th>FEMALE</th>\n",
              "      <th>MALE</th>\n",
              "      <th>BYEAR</th>\n",
              "      <th>AGE</th>\n",
              "      <th>AGEMBTH</th>\n",
              "      <th>HHINC97</th>\n",
              "      <th>...</th>\n",
              "      <th>URBAN</th>\n",
              "      <th>REGNE</th>\n",
              "      <th>REGNC</th>\n",
              "      <th>REGW</th>\n",
              "      <th>REGS</th>\n",
              "      <th>MSA11NO</th>\n",
              "      <th>MSA11NCC</th>\n",
              "      <th>MSA11CC</th>\n",
              "      <th>MSA11NK</th>\n",
              "      <th>MSA11NIC</th>\n",
              "    </tr>\n",
              "  </thead>\n",
              "  <tbody>\n",
              "    <tr>\n",
              "      <th>762</th>\n",
              "      <td>3308</td>\n",
              "      <td>15.00</td>\n",
              "      <td>14</td>\n",
              "      <td>9.77</td>\n",
              "      <td>1</td>\n",
              "      <td>0</td>\n",
              "      <td>1981</td>\n",
              "      <td>30</td>\n",
              "      <td>27.00</td>\n",
              "      <td>46,528.00</td>\n",
              "      <td>...</td>\n",
              "      <td>1</td>\n",
              "      <td>0</td>\n",
              "      <td>0</td>\n",
              "      <td>1</td>\n",
              "      <td>0</td>\n",
              "      <td>0</td>\n",
              "      <td>1</td>\n",
              "      <td>0</td>\n",
              "      <td>0</td>\n",
              "      <td>0</td>\n",
              "    </tr>\n",
              "  </tbody>\n",
              "</table>\n",
              "<p>1 rows × 96 columns</p>\n",
              "</div>"
            ],
            "text/plain": [
              "       ID  EARNINGS   S  EXP  FEMALE  MALE  BYEAR  AGE  AGEMBTH   HHINC97  \\\n",
              "762  3308     15.00  14 9.77       1     0   1981   30    27.00 46,528.00   \n",
              "\n",
              "     ...  URBAN  REGNE  REGNC  REGW  REGS  MSA11NO  MSA11NCC  MSA11CC  \\\n",
              "762  ...      1      0      0     1     0        0         1        0   \n",
              "\n",
              "     MSA11NK  MSA11NIC  \n",
              "762        0         0  \n",
              "\n",
              "[1 rows x 96 columns]"
            ]
          },
          "execution_count": 9,
          "metadata": {},
          "output_type": "execute_result"
        }
      ],
      "source": [
        "df_data.sample()"
      ]
    },
    {
      "attachments": {},
      "cell_type": "markdown",
      "metadata": {
        "id": "4itxqgP6nQj3"
      },
      "source": [
        "## Data Cleaning - Check for Missing Values and Duplicates\n",
        "\n",
        "Find and remove any duplicate rows."
      ]
    },
    {
      "cell_type": "code",
      "execution_count": 11,
      "metadata": {
        "id": "J3DHEFXWnS2N"
      },
      "outputs": [
        {
          "data": {
            "text/html": [
              "<div>\n",
              "<style scoped>\n",
              "    .dataframe tbody tr th:only-of-type {\n",
              "        vertical-align: middle;\n",
              "    }\n",
              "\n",
              "    .dataframe tbody tr th {\n",
              "        vertical-align: top;\n",
              "    }\n",
              "\n",
              "    .dataframe thead th {\n",
              "        text-align: right;\n",
              "    }\n",
              "</style>\n",
              "<table border=\"1\" class=\"dataframe\">\n",
              "  <thead>\n",
              "    <tr style=\"text-align: right;\">\n",
              "      <th></th>\n",
              "      <th>ID</th>\n",
              "      <th>EARNINGS</th>\n",
              "      <th>S</th>\n",
              "      <th>EXP</th>\n",
              "      <th>FEMALE</th>\n",
              "      <th>MALE</th>\n",
              "      <th>BYEAR</th>\n",
              "      <th>AGE</th>\n",
              "      <th>AGEMBTH</th>\n",
              "      <th>HHINC97</th>\n",
              "      <th>...</th>\n",
              "      <th>URBAN</th>\n",
              "      <th>REGNE</th>\n",
              "      <th>REGNC</th>\n",
              "      <th>REGW</th>\n",
              "      <th>REGS</th>\n",
              "      <th>MSA11NO</th>\n",
              "      <th>MSA11NCC</th>\n",
              "      <th>MSA11CC</th>\n",
              "      <th>MSA11NK</th>\n",
              "      <th>MSA11NIC</th>\n",
              "    </tr>\n",
              "  </thead>\n",
              "  <tbody>\n",
              "    <tr>\n",
              "      <th>0</th>\n",
              "      <td>4275</td>\n",
              "      <td>18.50</td>\n",
              "      <td>12</td>\n",
              "      <td>9.71</td>\n",
              "      <td>0</td>\n",
              "      <td>1</td>\n",
              "      <td>1984</td>\n",
              "      <td>27</td>\n",
              "      <td>24.00</td>\n",
              "      <td>64,000.00</td>\n",
              "      <td>...</td>\n",
              "      <td>1</td>\n",
              "      <td>0</td>\n",
              "      <td>0</td>\n",
              "      <td>1</td>\n",
              "      <td>0</td>\n",
              "      <td>0</td>\n",
              "      <td>0</td>\n",
              "      <td>1</td>\n",
              "      <td>0</td>\n",
              "      <td>0</td>\n",
              "    </tr>\n",
              "    <tr>\n",
              "      <th>1</th>\n",
              "      <td>4328</td>\n",
              "      <td>19.23</td>\n",
              "      <td>17</td>\n",
              "      <td>5.71</td>\n",
              "      <td>0</td>\n",
              "      <td>1</td>\n",
              "      <td>1982</td>\n",
              "      <td>29</td>\n",
              "      <td>32.00</td>\n",
              "      <td>6,000.00</td>\n",
              "      <td>...</td>\n",
              "      <td>2</td>\n",
              "      <td>0</td>\n",
              "      <td>0</td>\n",
              "      <td>1</td>\n",
              "      <td>0</td>\n",
              "      <td>0</td>\n",
              "      <td>1</td>\n",
              "      <td>0</td>\n",
              "      <td>0</td>\n",
              "      <td>0</td>\n",
              "    </tr>\n",
              "    <tr>\n",
              "      <th>2</th>\n",
              "      <td>8763</td>\n",
              "      <td>39.05</td>\n",
              "      <td>14</td>\n",
              "      <td>9.94</td>\n",
              "      <td>0</td>\n",
              "      <td>1</td>\n",
              "      <td>1981</td>\n",
              "      <td>30</td>\n",
              "      <td>23.00</td>\n",
              "      <td>88,252.00</td>\n",
              "      <td>...</td>\n",
              "      <td>1</td>\n",
              "      <td>0</td>\n",
              "      <td>0</td>\n",
              "      <td>0</td>\n",
              "      <td>1</td>\n",
              "      <td>0</td>\n",
              "      <td>0</td>\n",
              "      <td>1</td>\n",
              "      <td>0</td>\n",
              "      <td>0</td>\n",
              "    </tr>\n",
              "    <tr>\n",
              "      <th>3</th>\n",
              "      <td>8879</td>\n",
              "      <td>16.80</td>\n",
              "      <td>18</td>\n",
              "      <td>1.54</td>\n",
              "      <td>0</td>\n",
              "      <td>1</td>\n",
              "      <td>1983</td>\n",
              "      <td>28</td>\n",
              "      <td>30.00</td>\n",
              "      <td>NaN</td>\n",
              "      <td>...</td>\n",
              "      <td>1</td>\n",
              "      <td>0</td>\n",
              "      <td>1</td>\n",
              "      <td>0</td>\n",
              "      <td>0</td>\n",
              "      <td>0</td>\n",
              "      <td>1</td>\n",
              "      <td>0</td>\n",
              "      <td>0</td>\n",
              "      <td>0</td>\n",
              "    </tr>\n",
              "    <tr>\n",
              "      <th>4</th>\n",
              "      <td>1994</td>\n",
              "      <td>36.06</td>\n",
              "      <td>15</td>\n",
              "      <td>2.94</td>\n",
              "      <td>0</td>\n",
              "      <td>1</td>\n",
              "      <td>1984</td>\n",
              "      <td>27</td>\n",
              "      <td>23.00</td>\n",
              "      <td>44,188.00</td>\n",
              "      <td>...</td>\n",
              "      <td>1</td>\n",
              "      <td>0</td>\n",
              "      <td>0</td>\n",
              "      <td>0</td>\n",
              "      <td>1</td>\n",
              "      <td>0</td>\n",
              "      <td>0</td>\n",
              "      <td>1</td>\n",
              "      <td>0</td>\n",
              "      <td>0</td>\n",
              "    </tr>\n",
              "    <tr>\n",
              "      <th>...</th>\n",
              "      <td>...</td>\n",
              "      <td>...</td>\n",
              "      <td>...</td>\n",
              "      <td>...</td>\n",
              "      <td>...</td>\n",
              "      <td>...</td>\n",
              "      <td>...</td>\n",
              "      <td>...</td>\n",
              "      <td>...</td>\n",
              "      <td>...</td>\n",
              "      <td>...</td>\n",
              "      <td>...</td>\n",
              "      <td>...</td>\n",
              "      <td>...</td>\n",
              "      <td>...</td>\n",
              "      <td>...</td>\n",
              "      <td>...</td>\n",
              "      <td>...</td>\n",
              "      <td>...</td>\n",
              "      <td>...</td>\n",
              "      <td>...</td>\n",
              "    </tr>\n",
              "    <tr>\n",
              "      <th>1984</th>\n",
              "      <td>2400</td>\n",
              "      <td>9.00</td>\n",
              "      <td>12</td>\n",
              "      <td>10.83</td>\n",
              "      <td>1</td>\n",
              "      <td>0</td>\n",
              "      <td>1982</td>\n",
              "      <td>29</td>\n",
              "      <td>29.00</td>\n",
              "      <td>73,100.00</td>\n",
              "      <td>...</td>\n",
              "      <td>0</td>\n",
              "      <td>0</td>\n",
              "      <td>0</td>\n",
              "      <td>1</td>\n",
              "      <td>0</td>\n",
              "      <td>0</td>\n",
              "      <td>0</td>\n",
              "      <td>1</td>\n",
              "      <td>0</td>\n",
              "      <td>0</td>\n",
              "    </tr>\n",
              "    <tr>\n",
              "      <th>1989</th>\n",
              "      <td>3018</td>\n",
              "      <td>8.00</td>\n",
              "      <td>12</td>\n",
              "      <td>9.37</td>\n",
              "      <td>1</td>\n",
              "      <td>0</td>\n",
              "      <td>1982</td>\n",
              "      <td>29</td>\n",
              "      <td>23.00</td>\n",
              "      <td>66,300.00</td>\n",
              "      <td>...</td>\n",
              "      <td>1</td>\n",
              "      <td>0</td>\n",
              "      <td>1</td>\n",
              "      <td>0</td>\n",
              "      <td>0</td>\n",
              "      <td>0</td>\n",
              "      <td>1</td>\n",
              "      <td>0</td>\n",
              "      <td>0</td>\n",
              "      <td>0</td>\n",
              "    </tr>\n",
              "    <tr>\n",
              "      <th>1991</th>\n",
              "      <td>4550</td>\n",
              "      <td>8.57</td>\n",
              "      <td>17</td>\n",
              "      <td>6.29</td>\n",
              "      <td>1</td>\n",
              "      <td>0</td>\n",
              "      <td>1984</td>\n",
              "      <td>27</td>\n",
              "      <td>25.00</td>\n",
              "      <td>76,300.00</td>\n",
              "      <td>...</td>\n",
              "      <td>0</td>\n",
              "      <td>0</td>\n",
              "      <td>0</td>\n",
              "      <td>0</td>\n",
              "      <td>1</td>\n",
              "      <td>0</td>\n",
              "      <td>1</td>\n",
              "      <td>0</td>\n",
              "      <td>0</td>\n",
              "      <td>0</td>\n",
              "    </tr>\n",
              "    <tr>\n",
              "      <th>1994</th>\n",
              "      <td>3779</td>\n",
              "      <td>9.33</td>\n",
              "      <td>12</td>\n",
              "      <td>9.12</td>\n",
              "      <td>1</td>\n",
              "      <td>0</td>\n",
              "      <td>1984</td>\n",
              "      <td>27</td>\n",
              "      <td>22.00</td>\n",
              "      <td>NaN</td>\n",
              "      <td>...</td>\n",
              "      <td>1</td>\n",
              "      <td>0</td>\n",
              "      <td>0</td>\n",
              "      <td>1</td>\n",
              "      <td>0</td>\n",
              "      <td>0</td>\n",
              "      <td>1</td>\n",
              "      <td>0</td>\n",
              "      <td>0</td>\n",
              "      <td>0</td>\n",
              "    </tr>\n",
              "    <tr>\n",
              "      <th>1995</th>\n",
              "      <td>2456</td>\n",
              "      <td>14.00</td>\n",
              "      <td>8</td>\n",
              "      <td>7.87</td>\n",
              "      <td>1</td>\n",
              "      <td>0</td>\n",
              "      <td>1982</td>\n",
              "      <td>29</td>\n",
              "      <td>19.00</td>\n",
              "      <td>6,000.00</td>\n",
              "      <td>...</td>\n",
              "      <td>1</td>\n",
              "      <td>1</td>\n",
              "      <td>0</td>\n",
              "      <td>0</td>\n",
              "      <td>0</td>\n",
              "      <td>0</td>\n",
              "      <td>1</td>\n",
              "      <td>0</td>\n",
              "      <td>0</td>\n",
              "      <td>0</td>\n",
              "    </tr>\n",
              "  </tbody>\n",
              "</table>\n",
              "<p>1487 rows × 96 columns</p>\n",
              "</div>"
            ],
            "text/plain": [
              "        ID  EARNINGS   S   EXP  FEMALE  MALE  BYEAR  AGE  AGEMBTH   HHINC97  \\\n",
              "0     4275     18.50  12  9.71       0     1   1984   27    24.00 64,000.00   \n",
              "1     4328     19.23  17  5.71       0     1   1982   29    32.00  6,000.00   \n",
              "2     8763     39.05  14  9.94       0     1   1981   30    23.00 88,252.00   \n",
              "3     8879     16.80  18  1.54       0     1   1983   28    30.00       NaN   \n",
              "4     1994     36.06  15  2.94       0     1   1984   27    23.00 44,188.00   \n",
              "...    ...       ...  ..   ...     ...   ...    ...  ...      ...       ...   \n",
              "1984  2400      9.00  12 10.83       1     0   1982   29    29.00 73,100.00   \n",
              "1989  3018      8.00  12  9.37       1     0   1982   29    23.00 66,300.00   \n",
              "1991  4550      8.57  17  6.29       1     0   1984   27    25.00 76,300.00   \n",
              "1994  3779      9.33  12  9.12       1     0   1984   27    22.00       NaN   \n",
              "1995  2456     14.00   8  7.87       1     0   1982   29    19.00  6,000.00   \n",
              "\n",
              "      ...  URBAN  REGNE  REGNC  REGW  REGS  MSA11NO  MSA11NCC  MSA11CC  \\\n",
              "0     ...      1      0      0     1     0        0         0        1   \n",
              "1     ...      2      0      0     1     0        0         1        0   \n",
              "2     ...      1      0      0     0     1        0         0        1   \n",
              "3     ...      1      0      1     0     0        0         1        0   \n",
              "4     ...      1      0      0     0     1        0         0        1   \n",
              "...   ...    ...    ...    ...   ...   ...      ...       ...      ...   \n",
              "1984  ...      0      0      0     1     0        0         0        1   \n",
              "1989  ...      1      0      1     0     0        0         1        0   \n",
              "1991  ...      0      0      0     0     1        0         1        0   \n",
              "1994  ...      1      0      0     1     0        0         1        0   \n",
              "1995  ...      1      1      0     0     0        0         1        0   \n",
              "\n",
              "      MSA11NK  MSA11NIC  \n",
              "0           0         0  \n",
              "1           0         0  \n",
              "2           0         0  \n",
              "3           0         0  \n",
              "4           0         0  \n",
              "...       ...       ...  \n",
              "1984        0         0  \n",
              "1989        0         0  \n",
              "1991        0         0  \n",
              "1994        0         0  \n",
              "1995        0         0  \n",
              "\n",
              "[1487 rows x 96 columns]"
            ]
          },
          "execution_count": 11,
          "metadata": {},
          "output_type": "execute_result"
        }
      ],
      "source": [
        "df_data.drop_duplicates()"
      ]
    },
    {
      "attachments": {},
      "cell_type": "markdown",
      "metadata": {
        "id": "gGmBBPxZnVKC"
      },
      "source": [
        "## Descriptive Statistics"
      ]
    },
    {
      "cell_type": "code",
      "execution_count": 14,
      "metadata": {
        "id": "I5VP2BMVnVrt"
      },
      "outputs": [
        {
          "data": {
            "text/html": [
              "<div>\n",
              "<style scoped>\n",
              "    .dataframe tbody tr th:only-of-type {\n",
              "        vertical-align: middle;\n",
              "    }\n",
              "\n",
              "    .dataframe tbody tr th {\n",
              "        vertical-align: top;\n",
              "    }\n",
              "\n",
              "    .dataframe thead th {\n",
              "        text-align: right;\n",
              "    }\n",
              "</style>\n",
              "<table border=\"1\" class=\"dataframe\">\n",
              "  <thead>\n",
              "    <tr style=\"text-align: right;\">\n",
              "      <th></th>\n",
              "      <th>ID</th>\n",
              "      <th>EARNINGS</th>\n",
              "      <th>S</th>\n",
              "      <th>EXP</th>\n",
              "      <th>FEMALE</th>\n",
              "      <th>MALE</th>\n",
              "      <th>BYEAR</th>\n",
              "      <th>AGE</th>\n",
              "      <th>AGEMBTH</th>\n",
              "      <th>HHINC97</th>\n",
              "      <th>...</th>\n",
              "      <th>URBAN</th>\n",
              "      <th>REGNE</th>\n",
              "      <th>REGNC</th>\n",
              "      <th>REGW</th>\n",
              "      <th>REGS</th>\n",
              "      <th>MSA11NO</th>\n",
              "      <th>MSA11NCC</th>\n",
              "      <th>MSA11CC</th>\n",
              "      <th>MSA11NK</th>\n",
              "      <th>MSA11NIC</th>\n",
              "    </tr>\n",
              "  </thead>\n",
              "  <tbody>\n",
              "    <tr>\n",
              "      <th>count</th>\n",
              "      <td>2,000.00</td>\n",
              "      <td>2,000.00</td>\n",
              "      <td>2,000.00</td>\n",
              "      <td>2,000.00</td>\n",
              "      <td>2,000.00</td>\n",
              "      <td>2,000.00</td>\n",
              "      <td>2,000.00</td>\n",
              "      <td>2,000.00</td>\n",
              "      <td>1,956.00</td>\n",
              "      <td>1,630.00</td>\n",
              "      <td>...</td>\n",
              "      <td>2,000.00</td>\n",
              "      <td>2,000.00</td>\n",
              "      <td>2,000.00</td>\n",
              "      <td>2,000.00</td>\n",
              "      <td>2,000.00</td>\n",
              "      <td>2,000.00</td>\n",
              "      <td>2,000.00</td>\n",
              "      <td>2,000.00</td>\n",
              "      <td>2,000.00</td>\n",
              "      <td>2,000.00</td>\n",
              "    </tr>\n",
              "    <tr>\n",
              "      <th>mean</th>\n",
              "      <td>3,530.89</td>\n",
              "      <td>18.87</td>\n",
              "      <td>14.58</td>\n",
              "      <td>6.72</td>\n",
              "      <td>0.50</td>\n",
              "      <td>0.50</td>\n",
              "      <td>1,982.05</td>\n",
              "      <td>28.95</td>\n",
              "      <td>26.42</td>\n",
              "      <td>58,143.75</td>\n",
              "      <td>...</td>\n",
              "      <td>0.78</td>\n",
              "      <td>0.15</td>\n",
              "      <td>0.27</td>\n",
              "      <td>0.34</td>\n",
              "      <td>0.23</td>\n",
              "      <td>0.05</td>\n",
              "      <td>0.54</td>\n",
              "      <td>0.41</td>\n",
              "      <td>0.00</td>\n",
              "      <td>0.00</td>\n",
              "    </tr>\n",
              "    <tr>\n",
              "      <th>std</th>\n",
              "      <td>2,023.07</td>\n",
              "      <td>11.95</td>\n",
              "      <td>2.74</td>\n",
              "      <td>2.84</td>\n",
              "      <td>0.50</td>\n",
              "      <td>0.50</td>\n",
              "      <td>1.39</td>\n",
              "      <td>1.39</td>\n",
              "      <td>5.04</td>\n",
              "      <td>42,745.79</td>\n",
              "      <td>...</td>\n",
              "      <td>0.43</td>\n",
              "      <td>0.36</td>\n",
              "      <td>0.44</td>\n",
              "      <td>0.48</td>\n",
              "      <td>0.42</td>\n",
              "      <td>0.21</td>\n",
              "      <td>0.50</td>\n",
              "      <td>0.49</td>\n",
              "      <td>0.06</td>\n",
              "      <td>0.00</td>\n",
              "    </tr>\n",
              "    <tr>\n",
              "      <th>min</th>\n",
              "      <td>1.00</td>\n",
              "      <td>2.00</td>\n",
              "      <td>6.00</td>\n",
              "      <td>0.00</td>\n",
              "      <td>0.00</td>\n",
              "      <td>0.00</td>\n",
              "      <td>1,980.00</td>\n",
              "      <td>27.00</td>\n",
              "      <td>12.00</td>\n",
              "      <td>0.00</td>\n",
              "      <td>...</td>\n",
              "      <td>0.00</td>\n",
              "      <td>0.00</td>\n",
              "      <td>0.00</td>\n",
              "      <td>0.00</td>\n",
              "      <td>0.00</td>\n",
              "      <td>0.00</td>\n",
              "      <td>0.00</td>\n",
              "      <td>0.00</td>\n",
              "      <td>0.00</td>\n",
              "      <td>0.00</td>\n",
              "    </tr>\n",
              "    <tr>\n",
              "      <th>25%</th>\n",
              "      <td>1,825.00</td>\n",
              "      <td>11.54</td>\n",
              "      <td>12.00</td>\n",
              "      <td>4.69</td>\n",
              "      <td>0.00</td>\n",
              "      <td>0.00</td>\n",
              "      <td>1,981.00</td>\n",
              "      <td>28.00</td>\n",
              "      <td>23.00</td>\n",
              "      <td>32,000.00</td>\n",
              "      <td>...</td>\n",
              "      <td>1.00</td>\n",
              "      <td>0.00</td>\n",
              "      <td>0.00</td>\n",
              "      <td>0.00</td>\n",
              "      <td>0.00</td>\n",
              "      <td>0.00</td>\n",
              "      <td>0.00</td>\n",
              "      <td>0.00</td>\n",
              "      <td>0.00</td>\n",
              "      <td>0.00</td>\n",
              "    </tr>\n",
              "    <tr>\n",
              "      <th>50%</th>\n",
              "      <td>3,471.50</td>\n",
              "      <td>15.75</td>\n",
              "      <td>15.00</td>\n",
              "      <td>6.63</td>\n",
              "      <td>0.50</td>\n",
              "      <td>0.50</td>\n",
              "      <td>1,982.00</td>\n",
              "      <td>29.00</td>\n",
              "      <td>26.00</td>\n",
              "      <td>50,502.00</td>\n",
              "      <td>...</td>\n",
              "      <td>1.00</td>\n",
              "      <td>0.00</td>\n",
              "      <td>0.00</td>\n",
              "      <td>0.00</td>\n",
              "      <td>0.00</td>\n",
              "      <td>0.00</td>\n",
              "      <td>1.00</td>\n",
              "      <td>0.00</td>\n",
              "      <td>0.00</td>\n",
              "      <td>0.00</td>\n",
              "    </tr>\n",
              "    <tr>\n",
              "      <th>75%</th>\n",
              "      <td>5,158.25</td>\n",
              "      <td>22.70</td>\n",
              "      <td>16.00</td>\n",
              "      <td>8.70</td>\n",
              "      <td>1.00</td>\n",
              "      <td>1.00</td>\n",
              "      <td>1,983.00</td>\n",
              "      <td>30.00</td>\n",
              "      <td>30.00</td>\n",
              "      <td>72,202.50</td>\n",
              "      <td>...</td>\n",
              "      <td>1.00</td>\n",
              "      <td>0.00</td>\n",
              "      <td>1.00</td>\n",
              "      <td>1.00</td>\n",
              "      <td>0.00</td>\n",
              "      <td>0.00</td>\n",
              "      <td>1.00</td>\n",
              "      <td>1.00</td>\n",
              "      <td>0.00</td>\n",
              "      <td>0.00</td>\n",
              "    </tr>\n",
              "    <tr>\n",
              "      <th>max</th>\n",
              "      <td>8,980.00</td>\n",
              "      <td>132.89</td>\n",
              "      <td>20.00</td>\n",
              "      <td>14.73</td>\n",
              "      <td>1.00</td>\n",
              "      <td>1.00</td>\n",
              "      <td>1,984.00</td>\n",
              "      <td>31.00</td>\n",
              "      <td>45.00</td>\n",
              "      <td>246,474.00</td>\n",
              "      <td>...</td>\n",
              "      <td>2.00</td>\n",
              "      <td>1.00</td>\n",
              "      <td>1.00</td>\n",
              "      <td>1.00</td>\n",
              "      <td>1.00</td>\n",
              "      <td>1.00</td>\n",
              "      <td>1.00</td>\n",
              "      <td>1.00</td>\n",
              "      <td>1.00</td>\n",
              "      <td>0.00</td>\n",
              "    </tr>\n",
              "  </tbody>\n",
              "</table>\n",
              "<p>8 rows × 96 columns</p>\n",
              "</div>"
            ],
            "text/plain": [
              "            ID  EARNINGS        S      EXP   FEMALE     MALE    BYEAR  \\\n",
              "count 2,000.00  2,000.00 2,000.00 2,000.00 2,000.00 2,000.00 2,000.00   \n",
              "mean  3,530.89     18.87    14.58     6.72     0.50     0.50 1,982.05   \n",
              "std   2,023.07     11.95     2.74     2.84     0.50     0.50     1.39   \n",
              "min       1.00      2.00     6.00     0.00     0.00     0.00 1,980.00   \n",
              "25%   1,825.00     11.54    12.00     4.69     0.00     0.00 1,981.00   \n",
              "50%   3,471.50     15.75    15.00     6.63     0.50     0.50 1,982.00   \n",
              "75%   5,158.25     22.70    16.00     8.70     1.00     1.00 1,983.00   \n",
              "max   8,980.00    132.89    20.00    14.73     1.00     1.00 1,984.00   \n",
              "\n",
              "           AGE  AGEMBTH    HHINC97  ...    URBAN    REGNE    REGNC     REGW  \\\n",
              "count 2,000.00 1,956.00   1,630.00  ... 2,000.00 2,000.00 2,000.00 2,000.00   \n",
              "mean     28.95    26.42  58,143.75  ...     0.78     0.15     0.27     0.34   \n",
              "std       1.39     5.04  42,745.79  ...     0.43     0.36     0.44     0.48   \n",
              "min      27.00    12.00       0.00  ...     0.00     0.00     0.00     0.00   \n",
              "25%      28.00    23.00  32,000.00  ...     1.00     0.00     0.00     0.00   \n",
              "50%      29.00    26.00  50,502.00  ...     1.00     0.00     0.00     0.00   \n",
              "75%      30.00    30.00  72,202.50  ...     1.00     0.00     1.00     1.00   \n",
              "max      31.00    45.00 246,474.00  ...     2.00     1.00     1.00     1.00   \n",
              "\n",
              "          REGS  MSA11NO  MSA11NCC  MSA11CC  MSA11NK  MSA11NIC  \n",
              "count 2,000.00 2,000.00  2,000.00 2,000.00 2,000.00  2,000.00  \n",
              "mean      0.23     0.05      0.54     0.41     0.00      0.00  \n",
              "std       0.42     0.21      0.50     0.49     0.06      0.00  \n",
              "min       0.00     0.00      0.00     0.00     0.00      0.00  \n",
              "25%       0.00     0.00      0.00     0.00     0.00      0.00  \n",
              "50%       0.00     0.00      1.00     0.00     0.00      0.00  \n",
              "75%       0.00     0.00      1.00     1.00     0.00      0.00  \n",
              "max       1.00     1.00      1.00     1.00     1.00      0.00  \n",
              "\n",
              "[8 rows x 96 columns]"
            ]
          },
          "execution_count": 14,
          "metadata": {},
          "output_type": "execute_result"
        }
      ],
      "source": [
        "df_data.describe()"
      ]
    },
    {
      "attachments": {},
      "cell_type": "markdown",
      "metadata": {
        "id": "ZO-86NXbnWSH"
      },
      "source": [
        "## Visualise the Features"
      ]
    },
    {
      "cell_type": "code",
      "execution_count": 19,
      "metadata": {
        "id": "hFZJjbsKncPM"
      },
      "outputs": [
        {
          "data": {
            "text/plain": [
              "<Axes: xlabel='S', ylabel='EARNINGS'>"
            ]
          },
          "execution_count": 19,
          "metadata": {},
          "output_type": "execute_result"
        },
        {
          "data": {
            "image/png": "[encoded data removed]",
            "text/plain": [
              "<Figure size 640x480 with 1 Axes>"
            ]
          },
          "metadata": {},
          "output_type": "display_data"
        }
      ],
      "source": [
        "sns.scatterplot(data=df_data, x=\"S\", y=\"EARNINGS\")"
      ]
    },
    {
      "attachments": {},
      "cell_type": "markdown",
      "metadata": {
        "id": "9i4zHYG4nhDL"
      },
      "source": [
        "# Split Training & Test Dataset\n",
        "\n",
        "We *can't* use all the entries in our dataset to train our model. Keep 20% of the data for later as a testing dataset (out-of-sample data).  "
      ]
    },
    {
      "cell_type": "code",
      "execution_count": 43,
      "metadata": {
        "id": "M_OfRSyunkA1"
      },
      "outputs": [],
      "source": [
        "X_train, X_test, y_train, y_test = train_test_split(np.array(df_data[\"S\"]).reshape(-1,1), np.array(df_data[\"EARNINGS\"]), test_size=0.2, random_state=42)\n"
      ]
    },
    {
      "attachments": {},
      "cell_type": "markdown",
      "metadata": {
        "id": "EM99NOH0noFS"
      },
      "source": [
        "# Simple Linear Regression\n",
        "\n",
        "Only use the years of schooling to predict earnings. Use sklearn to run the regression on the training dataset. How high is the r-squared for the regression on the training data? "
      ]
    },
    {
      "cell_type": "code",
      "execution_count": 44,
      "metadata": {
        "id": "J_MViuoNnvHf"
      },
      "outputs": [
        {
          "data": {
            "text/html": [
              "<style>#sk-container-id-2 {color: black;background-color: white;}#sk-container-id-2 pre{padding: 0;}#sk-container-id-2 div.sk-toggleable {background-color: white;}#sk-container-id-2 label.sk-toggleable__label {cursor: pointer;display: block;width: 100%;margin-bottom: 0;padding: 0.3em;box-sizing: border-box;text-align: center;}#sk-container-id-2 label.sk-toggleable__label-arrow:before {content: \"▸\";float: left;margin-right: 0.25em;color: #696969;}#sk-container-id-2 label.sk-toggleable__label-arrow:hover:before {color: black;}#sk-container-id-2 div.sk-estimator:hover label.sk-toggleable__label-arrow:before {color: black;}#sk-container-id-2 div.sk-toggleable__content {max-height: 0;max-width: 0;overflow: hidden;text-align: left;background-color: #f0f8ff;}#sk-container-id-2 div.sk-toggleable__content pre {margin: 0.2em;color: black;border-radius: 0.25em;background-color: #f0f8ff;}#sk-container-id-2 input.sk-toggleable__control:checked~div.sk-toggleable__content {max-height: 200px;max-width: 100%;overflow: auto;}#sk-container-id-2 input.sk-toggleable__control:checked~label.sk-toggleable__label-arrow:before {content: \"▾\";}#sk-container-id-2 div.sk-estimator input.sk-toggleable__control:checked~label.sk-toggleable__label {background-color: #d4ebff;}#sk-container-id-2 div.sk-label input.sk-toggleable__control:checked~label.sk-toggleable__label {background-color: #d4ebff;}#sk-container-id-2 input.sk-hidden--visually {border: 0;clip: rect(1px 1px 1px 1px);clip: rect(1px, 1px, 1px, 1px);height: 1px;margin: -1px;overflow: hidden;padding: 0;position: absolute;width: 1px;}#sk-container-id-2 div.sk-estimator {font-family: monospace;background-color: #f0f8ff;border: 1px dotted black;border-radius: 0.25em;box-sizing: border-box;margin-bottom: 0.5em;}#sk-container-id-2 div.sk-estimator:hover {background-color: #d4ebff;}#sk-container-id-2 div.sk-parallel-item::after {content: \"\";width: 100%;border-bottom: 1px solid gray;flex-grow: 1;}#sk-container-id-2 div.sk-label:hover label.sk-toggleable__label {background-color: #d4ebff;}#sk-container-id-2 div.sk-serial::before {content: \"\";position: absolute;border-left: 1px solid gray;box-sizing: border-box;top: 0;bottom: 0;left: 50%;z-index: 0;}#sk-container-id-2 div.sk-serial {display: flex;flex-direction: column;align-items: center;background-color: white;padding-right: 0.2em;padding-left: 0.2em;position: relative;}#sk-container-id-2 div.sk-item {position: relative;z-index: 1;}#sk-container-id-2 div.sk-parallel {display: flex;align-items: stretch;justify-content: center;background-color: white;position: relative;}#sk-container-id-2 div.sk-item::before, #sk-container-id-2 div.sk-parallel-item::before {content: \"\";position: absolute;border-left: 1px solid gray;box-sizing: border-box;top: 0;bottom: 0;left: 50%;z-index: -1;}#sk-container-id-2 div.sk-parallel-item {display: flex;flex-direction: column;z-index: 1;position: relative;background-color: white;}#sk-container-id-2 div.sk-parallel-item:first-child::after {align-self: flex-end;width: 50%;}#sk-container-id-2 div.sk-parallel-item:last-child::after {align-self: flex-start;width: 50%;}#sk-container-id-2 div.sk-parallel-item:only-child::after {width: 0;}#sk-container-id-2 div.sk-dashed-wrapped {border: 1px dashed gray;margin: 0 0.4em 0.5em 0.4em;box-sizing: border-box;padding-bottom: 0.4em;background-color: white;}#sk-container-id-2 div.sk-label label {font-family: monospace;font-weight: bold;display: inline-block;line-height: 1.2em;}#sk-container-id-2 div.sk-label-container {text-align: center;}#sk-container-id-2 div.sk-container {/* jupyter's `normalize.less` sets `[hidden] { display: none; }` but bootstrap.min.css set `[hidden] { display: none !important; }` so we also need the `!important` here to be able to override the default hidden behavior on the sphinx rendered scikit-learn.org. See: https://github.com/scikit-learn/scikit-learn/issues/21755 */display: inline-block !important;position: relative;}#sk-container-id-2 div.sk-text-repr-fallback {display: none;}</style><div id=\"sk-container-id-2\" class=\"sk-top-container\"><div class=\"sk-text-repr-fallback\"><pre>LinearRegression()</pre><b>In a Jupyter environment, please rerun this cell to show the HTML representation or trust the notebook. <br />On GitHub, the HTML representation is unable to render, please try loading this page with nbviewer.org.</b></div><div class=\"sk-container\" hidden><div class=\"sk-item\"><div class=\"sk-estimator sk-toggleable\"><input class=\"sk-toggleable__control sk-hidden--visually\" id=\"sk-estimator-id-2\" type=\"checkbox\" checked><label for=\"sk-estimator-id-2\" class=\"sk-toggleable__label sk-toggleable__label-arrow\">LinearRegression</label><div class=\"sk-toggleable__content\"><pre>LinearRegression()</pre></div></div></div></div></div>"
            ],
            "text/plain": [
              "LinearRegression()"
            ]
          },
          "execution_count": 44,
          "metadata": {},
          "output_type": "execute_result"
        }
      ],
      "source": [
        "from sklearn import linear_model\n",
        "\n",
        "\n",
        "rgr = linear_model.LinearRegression()\n",
        "rgr.fit(X_train,y_train)"
      ]
    },
    {
      "attachments": {},
      "cell_type": "markdown",
      "metadata": {
        "id": "s2TeWKs7oJSa"
      },
      "source": [
        "### Evaluate the Coefficients of the Model\n",
        "\n",
        "Here we do a sense check on our regression coefficients. The first thing to look for is if the coefficients have the expected sign (positive or negative). \n",
        "\n",
        "Interpret the regression. How many extra dollars can one expect to earn for an additional year of schooling?"
      ]
    },
    {
      "cell_type": "code",
      "execution_count": 45,
      "metadata": {
        "id": "QmhzZAmAoW4t"
      },
      "outputs": [
        {
          "name": "stdout",
          "output_type": "stream",
          "text": [
            "Intercept: \n",
            " 2.4539169379487795\n"
          ]
        }
      ],
      "source": [
        "print('Intercept: \\n', rgr.intercept_)\n"
      ]
    },
    {
      "cell_type": "code",
      "execution_count": 46,
      "metadata": {
        "id": "e9hpdAt3oWnq"
      },
      "outputs": [
        {
          "name": "stdout",
          "output_type": "stream",
          "text": [
            "Coefficients: \n",
            " [1.11101119]\n"
          ]
        }
      ],
      "source": [
        "print('Coefficients: \\n', rgr.coef_)"
      ]
    },
    {
      "attachments": {},
      "cell_type": "markdown",
      "metadata": {
        "id": "WIyMPXXYobx8"
      },
      "source": [
        "### Analyse the Estimated Values & Regression Residuals\n",
        "\n",
        "How good our regression is also depends on the residuals - the difference between the model's predictions ( 𝑦̂ 𝑖 ) and the true values ( 𝑦𝑖 ) inside y_train. Do you see any patterns in the distribution of the residuals?"
      ]
    },
    {
      "cell_type": "code",
      "execution_count": 47,
      "metadata": {
        "id": "khkgscweosP_"
      },
      "outputs": [],
      "source": [
        "y_pred = rgr.predict(X_test)"
      ]
    },
    {
      "cell_type": "code",
      "execution_count": 49,
      "metadata": {
        "id": "m_diDXSXotm6"
      },
      "outputs": [
        {
          "name": "stdout",
          "output_type": "stream",
          "text": [
            "151.96926143200446\n"
          ]
        }
      ],
      "source": [
        "from sklearn.metrics import mean_squared_error\n",
        "\n",
        "\n",
        "mse = mean_squared_error(y_test, y_pred)\n",
        "print(mse)"
      ]
    },
    {
      "cell_type": "code",
      "execution_count": null,
      "metadata": {
        "id": "6DfAEUWNosHd"
      },
      "outputs": [],
      "source": []
    },
    {
      "attachments": {},
      "cell_type": "markdown",
      "metadata": {
        "id": "zNBuJ1iBnvpl"
      },
      "source": [
        "# Multivariable Regression\n",
        "\n",
        "Now use both years of schooling and the years work experience to predict earnings. How high is the r-squared for the regression on the training data? "
      ]
    },
    {
      "cell_type": "code",
      "execution_count": null,
      "metadata": {
        "id": "Ihq-C4looCSM"
      },
      "outputs": [],
      "source": []
    },
    {
      "cell_type": "code",
      "execution_count": null,
      "metadata": {
        "id": "dRhB7Iwboyfq"
      },
      "outputs": [],
      "source": []
    },
    {
      "attachments": {},
      "cell_type": "markdown",
      "metadata": {
        "id": "nHDtunM0oyuk"
      },
      "source": [
        "### Evaluate the Coefficients of the Model"
      ]
    },
    {
      "cell_type": "code",
      "execution_count": null,
      "metadata": {
        "id": "5vasqInIoydB"
      },
      "outputs": [],
      "source": []
    },
    {
      "attachments": {},
      "cell_type": "markdown",
      "metadata": {
        "id": "Yv8q90IYou2Q"
      },
      "source": [
        "### Analyse the Estimated Values & Regression Residuals"
      ]
    },
    {
      "cell_type": "code",
      "execution_count": null,
      "metadata": {
        "id": "8NmXnsxfowkI"
      },
      "outputs": [],
      "source": []
    },
    {
      "cell_type": "code",
      "execution_count": null,
      "metadata": {
        "id": "0ZZ1e0spo5o1"
      },
      "outputs": [],
      "source": []
    },
    {
      "attachments": {},
      "cell_type": "markdown",
      "metadata": {
        "id": "YWNeoqPLpjVb"
      },
      "source": [
        "# Use Your Model to Make a Prediction\n",
        "\n",
        "How much can someone with a bachelors degree (12 + 4) years of schooling and 5 years work experience expect to earn in 2011?"
      ]
    },
    {
      "cell_type": "code",
      "execution_count": null,
      "metadata": {
        "id": "Mof-14lCpv60"
      },
      "outputs": [],
      "source": []
    },
    {
      "cell_type": "code",
      "execution_count": null,
      "metadata": {
        "id": "3htX8_SBpvyb"
      },
      "outputs": [],
      "source": []
    },
    {
      "attachments": {},
      "cell_type": "markdown",
      "metadata": {
        "id": "TIYI-eQepDSQ"
      },
      "source": [
        "# Experiment and Investigate Further\n",
        "\n",
        "Which other features could you consider adding to further improve the regression to better predict earnings? "
      ]
    },
    {
      "cell_type": "code",
      "execution_count": null,
      "metadata": {
        "id": "sd07-pKopJgo"
      },
      "outputs": [],
      "source": []
    },
    {
      "cell_type": "code",
      "execution_count": null,
      "metadata": {
        "id": "Fohe2-Rdp1MO"
      },
      "outputs": [],
      "source": []
    }
  ],
  "metadata": {
    "colab": {
      "name": "Determinants of Earnings (start).ipynb",
      "provenance": [],
      "toc_visible": true
    },
    "kernelspec": {
      "display_name": "Python 3",
      "name": "python3"
    },
    "language_info": {
      "codemirror_mode": {
        "name": "ipython",
        "version": 3
      },
      "file_extension": ".py",
      "mimetype": "text/x-python",
      "name": "python",
      "nbconvert_exporter": "python",
      "pygments_lexer": "ipython3",
      "version": "3.10.6"
    }
  },
  "nbformat": 4,
  "nbformat_minor": 0
}
